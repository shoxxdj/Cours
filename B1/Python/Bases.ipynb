{
 "cells": [
  {
   "cell_type": "markdown",
   "metadata": {},
   "source": [
    "#Python 101 "
   ]
  },
  {
   "cell_type": "markdown",
   "metadata": {},
   "source": [
    "####Afficher un texte"
   ]
  },
  {
   "cell_type": "code",
   "execution_count": 1,
   "metadata": {
    "collapsed": false
   },
   "outputs": [
    {
     "name": "stdout",
     "output_type": "stream",
     "text": [
      "Hello Python\n"
     ]
    }
   ],
   "source": [
    "print \"Hello Python\""
   ]
  },
  {
   "cell_type": "code",
   "execution_count": 2,
   "metadata": {
    "collapsed": false
   },
   "outputs": [
    {
     "name": "stdout",
     "output_type": "stream",
     "text": [
      "une chaine de caractere\n"
     ]
    }
   ],
   "source": [
    "a = \"une chaine de caractere\"\n",
    "print a"
   ]
  },
  {
   "cell_type": "markdown",
   "metadata": {},
   "source": [
    "####Manipuler des variables"
   ]
  },
  {
   "cell_type": "code",
   "execution_count": 3,
   "metadata": {
    "collapsed": false
   },
   "outputs": [
    {
     "name": "stdout",
     "output_type": "stream",
     "text": [
      "3\n"
     ]
    }
   ],
   "source": [
    "b = 1\n",
    "c = 2\n",
    "print b+c "
   ]
  },
  {
   "cell_type": "markdown",
   "metadata": {},
   "source": [
    "####Conditions"
   ]
  },
  {
   "cell_type": "code",
   "execution_count": 4,
   "metadata": {
    "collapsed": false
   },
   "outputs": [
    {
     "name": "stdout",
     "output_type": "stream",
     "text": [
      "Entrez un nombre 1\n",
      "Le nombre est impair\n"
     ]
    }
   ],
   "source": [
    "a = int(raw_input(\"Entrez un nombre \"))\n",
    "if(a%2==0):\n",
    "    print \"Le nombre est pair\"\n",
    "elif(a==0):\n",
    "    print \"Vous avez entre 0 qui est pair :)\"\n",
    "else:\n",
    "    print \"Le nombre est impair\""
   ]
  },
  {
   "cell_type": "markdown",
   "metadata": {},
   "source": [
    "####Boucles"
   ]
  },
  {
   "cell_type": "code",
   "execution_count": null,
   "metadata": {
    "collapsed": false
   },
   "outputs": [],
   "source": [
    "a = 0 \n",
    "while(a!=10):\n",
    "    print a\n",
    "    a+=1"
   ]
  },
  {
   "cell_type": "code",
   "execution_count": null,
   "metadata": {
    "collapsed": false
   },
   "outputs": [],
   "source": [
    "for i in range(0,10):\n",
    "    print i"
   ]
  },
  {
   "cell_type": "markdown",
   "metadata": {
    "collapsed": true
   },
   "source": [
    "####Exercice Moyenne"
   ]
  },
  {
   "cell_type": "code",
   "execution_count": null,
   "metadata": {
    "collapsed": false
   },
   "outputs": [],
   "source": [
    "print \"Moyenne :\"\n",
    "nb_notes = int(raw_input(\"Entrez le nombre de notes :\"))\n",
    "compteur = 0 \n",
    "total = 0 \n",
    "while compteur < nb_notes:\n",
    "    total += float(raw_input(\"Note :\"))\n",
    "    compteur +=1 \n",
    "\n",
    "print \"Moyenne : \"+str(total/compteur)"
   ]
  },
  {
   "cell_type": "markdown",
   "metadata": {
    "collapsed": true
   },
   "source": [
    "#####Exercice + ou - "
   ]
  },
  {
   "cell_type": "markdown",
   "metadata": {},
   "source": [
    "######Nombre aléatoire : "
   ]
  },
  {
   "cell_type": "code",
   "execution_count": null,
   "metadata": {
    "collapsed": false
   },
   "outputs": [],
   "source": [
    "import random\n",
    "print str(random.randint(0,100))"
   ]
  },
  {
   "cell_type": "code",
   "execution_count": null,
   "metadata": {
    "collapsed": false
   },
   "outputs": [],
   "source": [
    "from random import randint\n",
    "print str(randint(0,100))"
   ]
  },
  {
   "cell_type": "markdown",
   "metadata": {},
   "source": [
    "######Jeu :"
   ]
  },
  {
   "cell_type": "code",
   "execution_count": null,
   "metadata": {
    "collapsed": false
   },
   "outputs": [],
   "source": [
    "from random import randint\n",
    "nombreATrouver = randint(0,100)\n",
    "userGuess = int(raw_input(\"Entrez un nombre :\"))\n",
    "tentatives = 1\n",
    "while userGuess != nombreATrouver:\n",
    "    if(userGuess<nombreATrouver):\n",
    "        print \"C'est plus\"\n",
    "    else:\n",
    "        print \"C'est moins\"\n",
    "    tentatives+=1\n",
    "    userGuess=int(raw_input(\"Entrez un nombre :\"))\n",
    "print \"Vous avez trouvé en %s coups\"%(tentatives)"
   ]
  },
  {
   "cell_type": "markdown",
   "metadata": {
    "collapsed": true
   },
   "source": [
    "######Solveur"
   ]
  },
  {
   "cell_type": "code",
   "execution_count": null,
   "metadata": {
    "collapsed": false
   },
   "outputs": [],
   "source": [
    "from random import randint\n",
    "\n",
    "borneInf=0\n",
    "borneSup=100\n",
    "coups = 0 \n",
    "aTrouver = randint(borneInf,borneSup)\n",
    "guess = (borneInf+borneSup)/2\n",
    "\n",
    "while aTrouver != guess:\n",
    "\tif(guess<aTrouver):\n",
    "\t\tprint \"+\"\n",
    "\t\tborneInf=guess\n",
    "\telse:\n",
    "\t\tprint \"-\"\n",
    "\t\tborneSup=guess\n",
    "\tguess = (borneInf+borneSup)/2\n",
    "\tcoups +=1\n",
    "\tprint guess\n",
    "\n",
    "print \"Nombre %s trouve en %s coups \"%(guess,coups)"
   ]
  },
  {
   "cell_type": "markdown",
   "metadata": {
    "collapsed": true
   },
   "source": [
    "######String(chaine de caractère) - Array(tableaux) - List(tableaux)"
   ]
  },
  {
   "cell_type": "code",
   "execution_count": 1,
   "metadata": {
    "collapsed": false
   },
   "outputs": [
    {
     "name": "stdout",
     "output_type": "stream",
     "text": [
      "['t', 'o', 't', 'o']\n",
      "['t', 'u', 't', 'o']\n",
      "tuto\n"
     ]
    }
   ],
   "source": [
    "a = \"toto\" \n",
    "b = list(a) #On transforme la string en liste\n",
    "print b \n",
    "\n",
    "b[1]=\"u\" #On manipule cette liste comme un tableau \n",
    "print b\n",
    "\n",
    "b = \"\".join(b) #On retransforme la liste en string\n",
    "print b "
   ]
  },
  {
   "cell_type": "code",
   "execution_count": null,
   "metadata": {
    "collapsed": true
   },
   "outputs": [],
   "source": []
  },
  {
   "cell_type": "code",
   "execution_count": null,
   "metadata": {
    "collapsed": true
   },
   "outputs": [],
   "source": []
  }
 ],
 "metadata": {
  "kernelspec": {
   "display_name": "Python 2",
   "language": "python",
   "name": "python2"
  },
  "language_info": {
   "codemirror_mode": {
    "name": "ipython",
    "version": 2
   },
   "file_extension": ".py",
   "mimetype": "text/x-python",
   "name": "python",
   "nbconvert_exporter": "python",
   "pygments_lexer": "ipython2",
   "version": "2.7.12"
  }
 },
 "nbformat": 4,
 "nbformat_minor": 1
}
